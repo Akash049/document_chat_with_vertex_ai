{
 "cells": [
  {
   "cell_type": "code",
   "execution_count": 1,
   "id": "e243a489-1e05-4349-b1d6-488f90be8faf",
   "metadata": {},
   "outputs": [],
   "source": [
    "!pip install langchain --upgrade\n",
    "!pip install -q google-generativeai\n",
    "!pip install google-cloud-aiplatform"
   ]
  },
  {
   "cell_type": "code",
   "execution_count": 2,
   "id": "3d1ecd60-5c2a-4697-8cba-1520b8663710",
   "metadata": {},
   "outputs": [],
   "source": [
    "from langchain.document_loaders import PyPDFLoader\n",
    "from langchain.text_splitter import RecursiveCharacterTextSplitter\n",
    "import google.generativeai as palm"
   ]
  },
  {
   "cell_type": "markdown",
   "id": "c517ebbf-db54-4b41-8dc4-831420e6457e",
   "metadata": {},
   "source": [
    "## Assemble the constants"
   ]
  },
  {
   "cell_type": "code",
   "execution_count": 3,
   "id": "3581a59c-564f-44f4-a032-57768a44f478",
   "metadata": {},
   "outputs": [],
   "source": [
    "PALM_API_KEY = \"<INSERT_YOUR_GOOGLE_PALM_API_KEY>\"\n",
    "PINECONE_API_KEY = \"<INSERT_YOUR_PINECONE_API_KEY>\"\n",
    "PINECONE_API_ENV = \"<INSERT_YOUR_PINECONE_ENVIRONMENT>\"\n",
    "PINECONE_INDEX_NAME = \"<INSERT_YOUR_PINECONE_INDEX>\"\n",
    "PROJECT_ID = \"<INSERT_YOUR_GOOGLE_PROJECT_ID>\""
   ]
  },
  {
   "cell_type": "markdown",
   "id": "b7f8e2a3-1c67-45da-8907-f059ce72b077",
   "metadata": {},
   "source": [
    "## Configurations"
   ]
  },
  {
   "cell_type": "code",
   "execution_count": 4,
   "id": "2eedb5b6-f379-492c-988b-81d147ef809b",
   "metadata": {},
   "outputs": [],
   "source": [
    "palm.configure(api_key=PALM_API_KEY)"
   ]
  },
  {
   "cell_type": "code",
   "execution_count": 5,
   "id": "c3c320ca-1866-4751-8b5e-dac301cb1f7f",
   "metadata": {},
   "outputs": [],
   "source": [
    "models = [m for m in palm.list_models() if 'generateText' in m.supported_generation_methods]"
   ]
  },
  {
   "cell_type": "code",
   "execution_count": 2,
   "id": "aec0868c-739a-4304-8f4e-86dd2fc61323",
   "metadata": {},
   "outputs": [],
   "source": [
    "model = models[0].name\n",
    "print(model)"
   ]
  },
  {
   "cell_type": "code",
   "execution_count": 7,
   "id": "4d278c5f-72f9-43bc-bf18-b56e266681f3",
   "metadata": {},
   "outputs": [],
   "source": [
    "## Loading Document data\n",
    "loader = PyPDFLoader(\"./data/FinancialML.pdf\")\n",
    "data = loader.load()"
   ]
  },
  {
   "cell_type": "code",
   "execution_count": 3,
   "id": "29fcf758-b36f-499b-a6f1-deb6939b8e7b",
   "metadata": {},
   "outputs": [],
   "source": [
    "print (f'You have {len(data)} document(s) in your data')\n",
    "print (f'There are {len(data[0].page_content)} characters in your document')"
   ]
  },
  {
   "cell_type": "markdown",
   "id": "1337a23e-e447-49b5-83ce-0f5f61575b93",
   "metadata": {},
   "source": [
    "## Chunk your data up into smaller documents"
   ]
  },
  {
   "cell_type": "code",
   "execution_count": 9,
   "id": "25c396fc-80f9-43b7-bfe2-922efc64888e",
   "metadata": {},
   "outputs": [],
   "source": [
    "text_splitter = RecursiveCharacterTextSplitter(chunk_size=2000, chunk_overlap=0)\n",
    "texts = text_splitter.split_documents(data)"
   ]
  },
  {
   "cell_type": "code",
   "execution_count": 4,
   "id": "102c05e8-df4d-40dc-b679-cbabc3fee801",
   "metadata": {},
   "outputs": [],
   "source": [
    "print (f'Now you have {len(texts)} documents')"
   ]
  },
  {
   "cell_type": "markdown",
   "id": "c32cad3c-ce1a-404f-b102-bfa5be3c7146",
   "metadata": {},
   "source": [
    "## Create embeddings of your documents to get ready for semantic search"
   ]
  },
  {
   "cell_type": "code",
   "execution_count": 6,
   "id": "ec945abe-4ebe-468a-ad2d-f904c4bbe0cf",
   "metadata": {},
   "outputs": [],
   "source": [
    "from langchain.vectorstores import Chroma, Pinecone\n",
    "from langchain.embeddings import VertexAIEmbeddings\n",
    "import pinecone\n",
    "from google.cloud import aiplatform"
   ]
  },
  {
   "cell_type": "code",
   "execution_count": 12,
   "id": "38708723-eff1-4a4f-b86d-73f37a0fcdec",
   "metadata": {},
   "outputs": [],
   "source": [
    "aiplatform.init(project=PROJECT_ID)"
   ]
  },
  {
   "cell_type": "code",
   "execution_count": 13,
   "id": "9eeeba14-ee81-47b5-99ac-96d42bd21477",
   "metadata": {},
   "outputs": [],
   "source": [
    "embeddings = VertexAIEmbeddings()"
   ]
  },
  {
   "cell_type": "code",
   "execution_count": 14,
   "id": "cda52e07-ed56-4746-b80c-69f953e89791",
   "metadata": {},
   "outputs": [],
   "source": [
    "# initialize pinecone\n",
    "pinecone.init(\n",
    "    api_key=PINECONE_API_KEY,\n",
    "    environment=PINECONE_API_ENV\n",
    ")\n",
    "index_name = PINECONE_INDEX_NAME"
   ]
  },
  {
   "cell_type": "code",
   "execution_count": 15,
   "id": "84a689f3-7a39-4f0a-ab96-61d9bd912084",
   "metadata": {},
   "outputs": [],
   "source": [
    "docsearch = Pinecone.from_texts([t.page_content for t in texts], embeddings, index_name=index_name)"
   ]
  },
  {
   "cell_type": "markdown",
   "id": "1cbcddf3-5899-41cf-9db7-5500b051ac56",
   "metadata": {},
   "source": [
    "## Implement search over the document"
   ]
  },
  {
   "cell_type": "code",
   "execution_count": 16,
   "id": "339b3f4d-af69-4980-b181-2a21595672e3",
   "metadata": {},
   "outputs": [],
   "source": [
    "query = \"What is a Penalized Leniar Model?\"\n",
    "docs = docsearch.similarity_search(query)"
   ]
  },
  {
   "cell_type": "markdown",
   "id": "26143509-665a-4fec-903f-522e44ef1a5b",
   "metadata": {},
   "source": [
    "## Get the answer from the VertexAI in a formatted form"
   ]
  },
  {
   "cell_type": "markdown",
   "id": "4cd02a66-1982-4f08-9f87-433d086f76d5",
   "metadata": {},
   "source": [
    "### Utility Functions"
   ]
  },
  {
   "cell_type": "code",
   "execution_count": 17,
   "id": "ee2acf64-6ef6-435f-8e51-7dc87d57b7e8",
   "metadata": {},
   "outputs": [],
   "source": [
    "def generate_prompt(input_query, context):\n",
    "    prompt = f\"\"\"Use the following pieces of context to answer the query at the end. If you don't know the answer, just say that you don't know, don't try to make up an answer.\n",
    "        {context}\n",
    "        Query: {input_query}\n",
    "        Helpful Answer:\n",
    "        \"\"\"\n",
    "    return prompt\n",
    "\n",
    "def generate_text_with_vertex_ai(prompt):\n",
    "    completion = palm.generate_text(\n",
    "        model='models/text-bison-001',\n",
    "        prompt=prompt,\n",
    "        temperature=0,\n",
    "        max_output_tokens=800,\n",
    "    )\n",
    "    return completion.result\n",
    "\n",
    "def create_context_using_document(docs):\n",
    "    context_string = \"\"\n",
    "    for doc in docs:\n",
    "        context_string += doc.page_content + \"\\n\\n\"\n",
    "    return context_string"
   ]
  },
  {
   "cell_type": "code",
   "execution_count": 18,
   "id": "db1baaa3-914c-4310-8561-613874bac80c",
   "metadata": {},
   "outputs": [],
   "source": [
    "context_string = create_context_using_document(docs)"
   ]
  },
  {
   "cell_type": "code",
   "execution_count": 19,
   "id": "3c570778-0bdf-4481-a73d-62a3c71a8fa9",
   "metadata": {},
   "outputs": [],
   "source": [
    "formatted_prompt = generate_prompt(query, context_string)"
   ]
  },
  {
   "cell_type": "code",
   "execution_count": 20,
   "id": "67547c97-08f4-4bce-b1b0-c5c4a9f15778",
   "metadata": {},
   "outputs": [],
   "source": [
    "llm_answer = generate_text_with_vertex_ai(formatted_prompt)"
   ]
  },
  {
   "cell_type": "code",
   "execution_count": 21,
   "id": "e36591c4-26d0-4899-9d6b-1b9fd174586f",
   "metadata": {},
   "outputs": [
    {
     "name": "stdout",
     "output_type": "stream",
     "text": [
      "Bot aswer:  A penalized linear model is a linear regression model that has been penalized to reduce overfitting.\n"
     ]
    }
   ],
   "source": [
    "print(\"Bot aswer: \", llm_answer)"
   ]
  }
 ],
 "metadata": {
  "kernelspec": {
   "display_name": "Python 3 (ipykernel)",
   "language": "python",
   "name": "python3"
  },
  "language_info": {
   "codemirror_mode": {
    "name": "ipython",
    "version": 3
   },
   "file_extension": ".py",
   "mimetype": "text/x-python",
   "name": "python",
   "nbconvert_exporter": "python",
   "pygments_lexer": "ipython3",
   "version": "3.8.17"
  }
 },
 "nbformat": 4,
 "nbformat_minor": 5
}
